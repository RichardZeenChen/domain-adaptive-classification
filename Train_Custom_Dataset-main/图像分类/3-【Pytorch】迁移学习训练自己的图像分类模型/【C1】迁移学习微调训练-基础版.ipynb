{
 "cells": [
  {
   "cell_type": "markdown",
   "id": "4a36abc9-47b6-4e9a-8d2c-330e64012db2",
   "metadata": {},
   "source": [
    "# 迁移学习微调训练图像分类模型\n",
    "# Migration learning fine-tuning training image classification models\n",
    "在自己的图像分类数据集上，使用ImageNet预训练图像分类模型初始化，改动分类层，迁移学习微调训练\n",
    "Initialization of pre-trained image classification model using ImageNet on its own image classification dataset, alteration of classification layers, migration learning fine-tuning training"
   ]
  },
  {
   "cell_type": "markdown",
   "id": "36d59cc6-c7c9-46d6-a5d2-d5da1d7ed4bc",
   "metadata": {},
   "source": [
    "## 设置matplotlib中文字体\n",
    "## Setting matplotlib Chinese fonts"
   ]
  },
  {
   "cell_type": "code",
   "execution_count": 6368,
   "id": "981d43b0-08f2-4c00-973c-071a7c7205e4",
   "metadata": {},
   "outputs": [],
   "source": [
    "# # windows操作系统\n",
    "# plt.rcParams['font.sans-serif']=['SimHei']  # 用来正常显示中文标签 \n",
    "# plt.rcParams['axes.unicode_minus']=False  # 用来正常显示负号"
   ]
  },
  {
   "cell_type": "code",
   "execution_count": 6369,
   "id": "9065b0da-f63f-4915-bae1-7fd9c729af4c",
   "metadata": {},
   "outputs": [],
   "source": [
    "# Mac操作系统，参考 https://www.ngui.cc/51cto/show-727683.html\n",
    "# 下载 simhei.ttf 字体文件\n",
    "# !wget https://zihao-openmmlab.obs.cn-east-3.myhuaweicloud.com/20220716-mmclassification/dataset/SimHei.ttf"
   ]
  },
  {
   "cell_type": "code",
   "execution_count": 6370,
   "id": "c680af5c-d54b-45d2-90f8-04554da4d7d3",
   "metadata": {},
   "outputs": [],
   "source": [
    "# Linux操作系统，例如 云GPU平台：https://featurize.cn/?s=d7ce99f842414bfcaea5662a97581bd1\n",
    "# 如果遇到 SSL 相关报错，重新运行本代码块即可\n",
    "\n",
    "# !wget https://zihao-openmmlab.obs.cn-east-3.myhuaweicloud.com/20220716-mmclassification/dataset/SimHei.ttf -O /home/sha/software/miniconda3/envs/py37_torch191/lib/python3.7/site-packages/matplotlib/mpl-data/fonts/ttf/SimHei.ttf\n",
    "# !rm -rf /home/featurize/.cache/matplotlib\n",
    "\n",
    "# import matplotlib\n",
    "# import matplotlib.pyplot as plt\n",
    "# matplotlib.rc(\"font\",family='SimHei') # 中文字体\n",
    "# plt.rcParams['axes.unicode_minus']=False  # 用来正常显示负号"
   ]
  },
  {
   "cell_type": "code",
   "execution_count": 6371,
   "id": "88ea5b3d",
   "metadata": {},
   "outputs": [],
   "source": [
    "# path = ''\n",
    "# for i in os.listdir('data/'):\n",
    "#     print(i)\n",
    "#     i"
   ]
  },
  {
   "cell_type": "markdown",
   "id": "0d9c174f-33c0-44fa-af53-14237d35b37d",
   "metadata": {},
   "source": [
    "## 导入工具包\n",
    "## Import Toolkit"
   ]
  },
  {
   "cell_type": "code",
   "execution_count": 6372,
   "id": "6b35d923-b9e9-4ea4-914a-5bf05b93a2b5",
   "metadata": {},
   "outputs": [],
   "source": [
    "import sys\n",
    "import time\n",
    "import os\n",
    "\n",
    "import numpy as np\n",
    "from tqdm import tqdm\n",
    "\n",
    "import torch\n",
    "import torchvision\n",
    "import torch.nn as nn\n",
    "import torch.nn.functional as F\n",
    "\n",
    "import matplotlib.pyplot as plt\n",
    "%matplotlib inline\n",
    "\n",
    "# 忽略烦人的红色提示/Ignore Ignore annoying red alerts\n",
    "import warnings\n",
    "warnings.filterwarnings(\"ignore\")\n",
    "\n",
    "def writePrint():        \n",
    "    output_content = open(r\"record.txt\", \"a\")# 写入记事本/Write to Notepad\n",
    "    sys.stdout = output_content"
   ]
  },
  {
   "cell_type": "markdown",
   "id": "dd7d48dc-580c-4c07-8d4e-02f99634c952",
   "metadata": {},
   "source": [
    "## 获取计算硬件\n",
    "## Get computing hardware"
   ]
  },
  {
   "cell_type": "code",
   "execution_count": 6373,
   "id": "e14f47aa-9ccb-4d56-a100-a5a82a97a43a",
   "metadata": {},
   "outputs": [],
   "source": [
    "# 有 GPU 就用 GPU，没有就用 CPU/ If you have a GPU, use a GPU. If you don't, use a CPU.\n",
    "device = torch.device('cuda:0' if torch.cuda.is_available() else 'cpu')\n",
    "print('device', device)"
   ]
  },
  {
   "cell_type": "markdown",
   "id": "4e9499c1-0594-48b8-80f0-e7fdbc30dbe3",
   "metadata": {},
   "source": [
    "## 图像预处理\n",
    "## Image preprocessing"
   ]
  },
  {
   "cell_type": "code",
   "execution_count": 6374,
   "id": "81f0ca03-de86-450d-a47e-6f0e7c19d97a",
   "metadata": {},
   "outputs": [],
   "source": [
    "from torchvision import transforms\n",
    "\n",
    "# 训练集图像预处理：缩放裁剪、图像增强、转 Tensor、归一化\n",
    "# Training set image preprocessing: zoom crop, image enhancement, to Tensor, normalization\n",
    "train_transform = transforms.Compose([transforms.RandomResizedCrop(224),\n",
    "                                      transforms.RandomHorizontalFlip(),\n",
    "                                      transforms.ToTensor(),\n",
    "                                      transforms.Normalize([0.485, 0.456, 0.406], [0.229, 0.224, 0.225])\n",
    "                                     ])\n",
    "\n",
    "# 测试集图像预处理-RCTN：缩放、裁剪、转 Tensor、归一化\n",
    "# Test set image preprocessing-RCTN: Scale, Crop, Turn Tensor, Normalize\n",
    "test_transform = transforms.Compose([transforms.Resize(256),\n",
    "                                     transforms.CenterCrop(224),\n",
    "                                     transforms.ToTensor(),\n",
    "                                     transforms.Normalize(\n",
    "                                         mean=[0.485, 0.456, 0.406], \n",
    "                                         std=[0.229, 0.224, 0.225])\n",
    "                                    ])"
   ]
  },
  {
   "cell_type": "markdown",
   "id": "1d059c79-5b67-49fe-9baa-1bcd363208dc",
   "metadata": {},
   "source": [
    "## 载入图像分类数据集\n",
    "## Load an image classification dataset"
   ]
  },
  {
   "cell_type": "code",
   "execution_count": 6375,
   "id": "dcf6544a-6af5-4b07-93df-d863157b9290",
   "metadata": {},
   "outputs": [],
   "source": [
    "# 数据集文件夹路径/Dataset folder path\n",
    "dataset_dir = 'r>rc'#'R_split'R-250"
   ]
  },
  {
   "cell_type": "code",
   "execution_count": 6376,
   "id": "fb421576",
   "metadata": {},
   "outputs": [],
   "source": [
    "# 训练和测试集名/Practice and test set names\n",
    "train = 'tra'\n",
    "val = 'val'"
   ]
  },
  {
   "cell_type": "code",
   "execution_count": 6377,
   "id": "ccb23900-b48f-4839-9cf5-82c9d07b42a6",
   "metadata": {
    "scrolled": true
   },
   "outputs": [],
   "source": [
    "train_path = os.path.join(dataset_dir, train)\n",
    "test_path = os.path.join(dataset_dir, val)\n",
    "print('训练集路径', train_path)\n",
    "print('测试集路径', test_path)"
   ]
  },
  {
   "cell_type": "code",
   "execution_count": 6378,
   "id": "6eb2572f-3823-430e-81d5-ef202fa52244",
   "metadata": {},
   "outputs": [],
   "source": [
    "from torchvision import datasets\n",
    "\n",
    "# 载入训练集/Load training set\n",
    "train_dataset = datasets.ImageFolder(train_path, train_transform)\n",
    "\n",
    "# 载入测试集/Load Test Set\n",
    "test_dataset = datasets.ImageFolder(test_path, test_transform)"
   ]
  },
  {
   "cell_type": "code",
   "execution_count": 6379,
   "id": "df766b1f-a51f-4c3f-a916-08fc633713a5",
   "metadata": {},
   "outputs": [],
   "source": [
    "print('训练集图像数量', len(train_dataset))\n",
    "print('类别个数', len(train_dataset.classes))\n",
    "print('各类别名称', train_dataset.classes)"
   ]
  },
  {
   "cell_type": "code",
   "execution_count": 6380,
   "id": "fa33a8d8-2e9e-43d9-bcfd-09f0c9d6619a",
   "metadata": {},
   "outputs": [],
   "source": [
    "print('测试集图像数量', len(test_dataset))\n",
    "print('类别个数', len(test_dataset.classes))\n",
    "print('各类别名称', test_dataset.classes)"
   ]
  },
  {
   "cell_type": "markdown",
   "id": "f74e98be-4648-4d34-9e6c-273a55127b4d",
   "metadata": {},
   "source": [
    "## 类别和索引号 一一对应\n",
    "## Category and index numbers correspond one to one ##"
   ]
  },
  {
   "cell_type": "code",
   "execution_count": 6381,
   "id": "0f737200-3afd-46f7-9c42-52c66829572e",
   "metadata": {},
   "outputs": [],
   "source": [
    "# 各类别名称/Name of each category\n",
    "class_names = train_dataset.classes\n",
    "n_class = len(class_names)"
   ]
  },
  {
   "cell_type": "code",
   "execution_count": 6382,
   "id": "75f0a680-7511-46a9-b3a3-2c8fc20d9a37",
   "metadata": {},
   "outputs": [
    {
     "data": {
      "text/plain": [
       "['The-Eiffel-Tower',\n",
       " 'The-Great-Wall-of-China',\n",
       " 'airplane',\n",
       " 'ant',\n",
       " 'anvil',\n",
       " 'apple',\n",
       " 'asparagus',\n",
       " 'axe',\n",
       " 'banana',\n",
       " 'barn',\n",
       " 'basketball',\n",
       " 'bat',\n",
       " 'bear',\n",
       " 'bicycle',\n",
       " 'blueberry',\n",
       " 'brain',\n",
       " 'bridge',\n",
       " 'butterfly',\n",
       " 'cake',\n",
       " 'camel',\n",
       " 'camera',\n",
       " 'campfire',\n",
       " 'candle',\n",
       " 'canoe',\n",
       " 'car',\n",
       " 'castle',\n",
       " 'cat',\n",
       " 'church',\n",
       " 'circle',\n",
       " 'clock',\n",
       " 'cloud',\n",
       " 'crab',\n",
       " 'cups',\n",
       " 'dog',\n",
       " 'dragon',\n",
       " 'drums',\n",
       " 'duck',\n",
       " 'elephant',\n",
       " 'envelope',\n",
       " 'firetruck',\n",
       " 'fish',\n",
       " 'flower',\n",
       " 'flying-saucer',\n",
       " 'frog',\n",
       " 'garden',\n",
       " 'guitar',\n",
       " 'harp',\n",
       " 'hat',\n",
       " 'hockey-puck',\n",
       " 'horse',\n",
       " 'hot-air-balloon',\n",
       " 'hourglass',\n",
       " 'kangaroo',\n",
       " 'lantern',\n",
       " 'leaf',\n",
       " 'light-bulb',\n",
       " 'lighthouse',\n",
       " 'lightning',\n",
       " 'lion',\n",
       " 'lobster',\n",
       " 'lollipop',\n",
       " 'map',\n",
       " 'microphone',\n",
       " 'monkey',\n",
       " 'moon',\n",
       " 'mountain',\n",
       " 'mouse',\n",
       " 'mushroom',\n",
       " 'ocean',\n",
       " 'octopus',\n",
       " 'onion',\n",
       " 'owl',\n",
       " 'panda',\n",
       " 'parrot',\n",
       " 'pear',\n",
       " 'penguin',\n",
       " 'piano',\n",
       " 'pig',\n",
       " 'rabbit',\n",
       " 'rain',\n",
       " 'rhinoceros',\n",
       " 'river',\n",
       " 'sailboat',\n",
       " 'saxophone',\n",
       " 'sheep',\n",
       " 'skateboard',\n",
       " 'skull',\n",
       " 'slippers',\n",
       " 'snail',\n",
       " 'snake',\n",
       " 'snowman',\n",
       " 'soccer-ball',\n",
       " 'spider',\n",
       " 'squirrel',\n",
       " 'stethoscope',\n",
       " 'strawberry',\n",
       " 'submarine',\n",
       " 'suitcase',\n",
       " 'sun',\n",
       " 'swan',\n",
       " 'tent',\n",
       " 'tiger',\n",
       " 'tornado',\n",
       " 'tractor',\n",
       " 'train',\n",
       " 'tree',\n",
       " 'triangle',\n",
       " 'trombone',\n",
       " 'truck',\n",
       " 'vase',\n",
       " 'violin',\n",
       " 'watermelon',\n",
       " 'windmill',\n",
       " 'yoga']"
      ]
     },
     "execution_count": 6382,
     "metadata": {},
     "output_type": "execute_result"
    }
   ],
   "source": [
    "class_names"
   ]
  },
  {
   "cell_type": "code",
   "execution_count": 6383,
   "id": "c671913e-b8f5-4410-bf12-2e942d9d4e7a",
   "metadata": {},
   "outputs": [
    {
     "data": {
      "text/plain": [
       "{'The-Eiffel-Tower': 0,\n",
       " 'The-Great-Wall-of-China': 1,\n",
       " 'airplane': 2,\n",
       " 'ant': 3,\n",
       " 'anvil': 4,\n",
       " 'apple': 5,\n",
       " 'asparagus': 6,\n",
       " 'axe': 7,\n",
       " 'banana': 8,\n",
       " 'barn': 9,\n",
       " 'basketball': 10,\n",
       " 'bat': 11,\n",
       " 'bear': 12,\n",
       " 'bicycle': 13,\n",
       " 'blueberry': 14,\n",
       " 'brain': 15,\n",
       " 'bridge': 16,\n",
       " 'butterfly': 17,\n",
       " 'cake': 18,\n",
       " 'camel': 19,\n",
       " 'camera': 20,\n",
       " 'campfire': 21,\n",
       " 'candle': 22,\n",
       " 'canoe': 23,\n",
       " 'car': 24,\n",
       " 'castle': 25,\n",
       " 'cat': 26,\n",
       " 'church': 27,\n",
       " 'circle': 28,\n",
       " 'clock': 29,\n",
       " 'cloud': 30,\n",
       " 'crab': 31,\n",
       " 'cups': 32,\n",
       " 'dog': 33,\n",
       " 'dragon': 34,\n",
       " 'drums': 35,\n",
       " 'duck': 36,\n",
       " 'elephant': 37,\n",
       " 'envelope': 38,\n",
       " 'firetruck': 39,\n",
       " 'fish': 40,\n",
       " 'flower': 41,\n",
       " 'flying-saucer': 42,\n",
       " 'frog': 43,\n",
       " 'garden': 44,\n",
       " 'guitar': 45,\n",
       " 'harp': 46,\n",
       " 'hat': 47,\n",
       " 'hockey-puck': 48,\n",
       " 'horse': 49,\n",
       " 'hot-air-balloon': 50,\n",
       " 'hourglass': 51,\n",
       " 'kangaroo': 52,\n",
       " 'lantern': 53,\n",
       " 'leaf': 54,\n",
       " 'light-bulb': 55,\n",
       " 'lighthouse': 56,\n",
       " 'lightning': 57,\n",
       " 'lion': 58,\n",
       " 'lobster': 59,\n",
       " 'lollipop': 60,\n",
       " 'map': 61,\n",
       " 'microphone': 62,\n",
       " 'monkey': 63,\n",
       " 'moon': 64,\n",
       " 'mountain': 65,\n",
       " 'mouse': 66,\n",
       " 'mushroom': 67,\n",
       " 'ocean': 68,\n",
       " 'octopus': 69,\n",
       " 'onion': 70,\n",
       " 'owl': 71,\n",
       " 'panda': 72,\n",
       " 'parrot': 73,\n",
       " 'pear': 74,\n",
       " 'penguin': 75,\n",
       " 'piano': 76,\n",
       " 'pig': 77,\n",
       " 'rabbit': 78,\n",
       " 'rain': 79,\n",
       " 'rhinoceros': 80,\n",
       " 'river': 81,\n",
       " 'sailboat': 82,\n",
       " 'saxophone': 83,\n",
       " 'sheep': 84,\n",
       " 'skateboard': 85,\n",
       " 'skull': 86,\n",
       " 'slippers': 87,\n",
       " 'snail': 88,\n",
       " 'snake': 89,\n",
       " 'snowman': 90,\n",
       " 'soccer-ball': 91,\n",
       " 'spider': 92,\n",
       " 'squirrel': 93,\n",
       " 'stethoscope': 94,\n",
       " 'strawberry': 95,\n",
       " 'submarine': 96,\n",
       " 'suitcase': 97,\n",
       " 'sun': 98,\n",
       " 'swan': 99,\n",
       " 'tent': 100,\n",
       " 'tiger': 101,\n",
       " 'tornado': 102,\n",
       " 'tractor': 103,\n",
       " 'train': 104,\n",
       " 'tree': 105,\n",
       " 'triangle': 106,\n",
       " 'trombone': 107,\n",
       " 'truck': 108,\n",
       " 'vase': 109,\n",
       " 'violin': 110,\n",
       " 'watermelon': 111,\n",
       " 'windmill': 112,\n",
       " 'yoga': 113}"
      ]
     },
     "execution_count": 6383,
     "metadata": {},
     "output_type": "execute_result"
    }
   ],
   "source": [
    "# 映射关系：类别 到 索引号/Mapping relationship: category to index number\n",
    "train_dataset.class_to_idx"
   ]
  },
  {
   "cell_type": "code",
   "execution_count": 6384,
   "id": "d07ab397-19fa-404e-aaa0-20dfadc02bdf",
   "metadata": {},
   "outputs": [],
   "source": [
    "# 映射关系：索引号 到 类别/Mapping relationship: index number to category\n",
    "idx_to_labels = {y:x for x,y in train_dataset.class_to_idx.items()}"
   ]
  },
  {
   "cell_type": "code",
   "execution_count": 6385,
   "id": "c0ce6c26-65a2-4f49-b877-064479365487",
   "metadata": {},
   "outputs": [
    {
     "data": {
      "text/plain": [
       "{0: 'The-Eiffel-Tower',\n",
       " 1: 'The-Great-Wall-of-China',\n",
       " 2: 'airplane',\n",
       " 3: 'ant',\n",
       " 4: 'anvil',\n",
       " 5: 'apple',\n",
       " 6: 'asparagus',\n",
       " 7: 'axe',\n",
       " 8: 'banana',\n",
       " 9: 'barn',\n",
       " 10: 'basketball',\n",
       " 11: 'bat',\n",
       " 12: 'bear',\n",
       " 13: 'bicycle',\n",
       " 14: 'blueberry',\n",
       " 15: 'brain',\n",
       " 16: 'bridge',\n",
       " 17: 'butterfly',\n",
       " 18: 'cake',\n",
       " 19: 'camel',\n",
       " 20: 'camera',\n",
       " 21: 'campfire',\n",
       " 22: 'candle',\n",
       " 23: 'canoe',\n",
       " 24: 'car',\n",
       " 25: 'castle',\n",
       " 26: 'cat',\n",
       " 27: 'church',\n",
       " 28: 'circle',\n",
       " 29: 'clock',\n",
       " 30: 'cloud',\n",
       " 31: 'crab',\n",
       " 32: 'cups',\n",
       " 33: 'dog',\n",
       " 34: 'dragon',\n",
       " 35: 'drums',\n",
       " 36: 'duck',\n",
       " 37: 'elephant',\n",
       " 38: 'envelope',\n",
       " 39: 'firetruck',\n",
       " 40: 'fish',\n",
       " 41: 'flower',\n",
       " 42: 'flying-saucer',\n",
       " 43: 'frog',\n",
       " 44: 'garden',\n",
       " 45: 'guitar',\n",
       " 46: 'harp',\n",
       " 47: 'hat',\n",
       " 48: 'hockey-puck',\n",
       " 49: 'horse',\n",
       " 50: 'hot-air-balloon',\n",
       " 51: 'hourglass',\n",
       " 52: 'kangaroo',\n",
       " 53: 'lantern',\n",
       " 54: 'leaf',\n",
       " 55: 'light-bulb',\n",
       " 56: 'lighthouse',\n",
       " 57: 'lightning',\n",
       " 58: 'lion',\n",
       " 59: 'lobster',\n",
       " 60: 'lollipop',\n",
       " 61: 'map',\n",
       " 62: 'microphone',\n",
       " 63: 'monkey',\n",
       " 64: 'moon',\n",
       " 65: 'mountain',\n",
       " 66: 'mouse',\n",
       " 67: 'mushroom',\n",
       " 68: 'ocean',\n",
       " 69: 'octopus',\n",
       " 70: 'onion',\n",
       " 71: 'owl',\n",
       " 72: 'panda',\n",
       " 73: 'parrot',\n",
       " 74: 'pear',\n",
       " 75: 'penguin',\n",
       " 76: 'piano',\n",
       " 77: 'pig',\n",
       " 78: 'rabbit',\n",
       " 79: 'rain',\n",
       " 80: 'rhinoceros',\n",
       " 81: 'river',\n",
       " 82: 'sailboat',\n",
       " 83: 'saxophone',\n",
       " 84: 'sheep',\n",
       " 85: 'skateboard',\n",
       " 86: 'skull',\n",
       " 87: 'slippers',\n",
       " 88: 'snail',\n",
       " 89: 'snake',\n",
       " 90: 'snowman',\n",
       " 91: 'soccer-ball',\n",
       " 92: 'spider',\n",
       " 93: 'squirrel',\n",
       " 94: 'stethoscope',\n",
       " 95: 'strawberry',\n",
       " 96: 'submarine',\n",
       " 97: 'suitcase',\n",
       " 98: 'sun',\n",
       " 99: 'swan',\n",
       " 100: 'tent',\n",
       " 101: 'tiger',\n",
       " 102: 'tornado',\n",
       " 103: 'tractor',\n",
       " 104: 'train',\n",
       " 105: 'tree',\n",
       " 106: 'triangle',\n",
       " 107: 'trombone',\n",
       " 108: 'truck',\n",
       " 109: 'vase',\n",
       " 110: 'violin',\n",
       " 111: 'watermelon',\n",
       " 112: 'windmill',\n",
       " 113: 'yoga'}"
      ]
     },
     "execution_count": 6385,
     "metadata": {},
     "output_type": "execute_result"
    }
   ],
   "source": [
    "idx_to_labels"
   ]
  },
  {
   "cell_type": "code",
   "execution_count": 6386,
   "id": "9e74e138-c9bb-48f4-aed6-c5e4b4ce2b17",
   "metadata": {},
   "outputs": [],
   "source": [
    "# 保存为本地的 npy 文件/Save as local npy file\n",
    "np.save('R_idx_to_labels.npy', idx_to_labels)\n",
    "np.save('R_labels_to_idx.npy', train_dataset.class_to_idx)"
   ]
  },
  {
   "cell_type": "markdown",
   "id": "329d3824-e6bb-4f50-9802-f073d9151311",
   "metadata": {},
   "source": [
    "## 定义数据加载器DataLoader\n",
    "## Define the data loader DataLoader"
   ]
  },
  {
   "cell_type": "code",
   "execution_count": 6387,
   "id": "300daf13-807a-4f80-a2cc-ee3675a64c90",
   "metadata": {},
   "outputs": [],
   "source": [
    "from torch.utils.data import DataLoader"
   ]
  },
  {
   "cell_type": "code",
   "execution_count": 6388,
   "id": "a787702d-61c6-41af-9cbd-19bc5d3baae7",
   "metadata": {},
   "outputs": [],
   "source": [
    "BATCH_SIZE = 32\n",
    "\n",
    "# 训练集的数据加载器/Data loader for the training set\n",
    "train_loader = DataLoader(train_dataset,\n",
    "                          batch_size=BATCH_SIZE,\n",
    "                          shuffle=True,\n",
    "                          num_workers=4\n",
    "                         )\n",
    "\n",
    "# 测试集的数据加载器/Data Loader for Test Sets\n",
    "test_loader = DataLoader(test_dataset,\n",
    "                         batch_size=BATCH_SIZE,\n",
    "                         shuffle=False,\n",
    "                         num_workers=4\n",
    "                        )"
   ]
  },
  {
   "cell_type": "markdown",
   "id": "8d1e837d-df50-4af8-a395-22e550b3d1f2",
   "metadata": {},
   "source": [
    "## 查看一个batch的图像和标注\n",
    "## View images and annotations for a batch"
   ]
  },
  {
   "cell_type": "code",
   "execution_count": 6389,
   "id": "28879d37-687b-45a8-b980-731df68dab02",
   "metadata": {},
   "outputs": [],
   "source": [
    "# DataLoader 是 python生成器，每次调用返回一个 batch \n",
    "# DataLoader is a python generator that returns a batch per call \n",
    "images, labels = next(iter(train_loader))"
   ]
  },
  {
   "cell_type": "code",
   "execution_count": 6390,
   "id": "8711c143-d26b-4c70-9da9-f1a78a89c65a",
   "metadata": {},
   "outputs": [
    {
     "data": {
      "text/plain": [
       "torch.Size([32, 3, 224, 224])"
      ]
     },
     "execution_count": 6390,
     "metadata": {},
     "output_type": "execute_result"
    }
   ],
   "source": [
    "images.shape"
   ]
  },
  {
   "cell_type": "code",
   "execution_count": 6391,
   "id": "be7305eb-e333-4325-9aa3-cc58c59a175b",
   "metadata": {},
   "outputs": [
    {
     "data": {
      "text/plain": [
       "tensor([112,  28,  68,   9,  24,  77,  34,  57,   9,  83,  19,  59,  86,  40,\n",
       "         67,  37,  77,  18,   8, 113,  71,  45,  32, 102,   2,  34,  54,   4,\n",
       "        113,  29, 103,  33])"
      ]
     },
     "execution_count": 6391,
     "metadata": {},
     "output_type": "execute_result"
    }
   ],
   "source": [
    "labels"
   ]
  },
  {
   "cell_type": "markdown",
   "id": "147df415-b72d-4556-a75f-adb57ddbff6a",
   "metadata": {},
   "source": [
    "## 可视化一个batch的图像和标注\n",
    "## Visualize a batch of images and annotations"
   ]
  },
  {
   "cell_type": "code",
   "execution_count": 6392,
   "id": "11cee8f7-9f9a-441b-9e7f-cc3ebf2b534c",
   "metadata": {},
   "outputs": [],
   "source": [
    "# 将数据集中的Tensor张量转为numpy的array数据类型\n",
    "# Convert the Tensor tensor in a dataset to numpy's array datatype\n",
    "images = images.numpy()"
   ]
  },
  {
   "cell_type": "code",
   "execution_count": 6393,
   "id": "f4013567-7a8e-40fc-9ce5-435a283cacd2",
   "metadata": {},
   "outputs": [
    {
     "data": {
      "text/plain": [
       "(3, 224, 224)"
      ]
     },
     "execution_count": 6393,
     "metadata": {},
     "output_type": "execute_result"
    }
   ],
   "source": [
    "images[5].shape"
   ]
  },
  {
   "cell_type": "code",
   "execution_count": 6394,
   "id": "502d7d5d-3028-4d60-b2ec-172762c36688",
   "metadata": {
    "scrolled": true
   },
   "outputs": [
    {
     "data": {
      "image/png": "[encoded data removed]",
      "text/plain": [
       "<Figure size 640x480 with 1 Axes>"
      ]
     },
     "metadata": {},
     "output_type": "display_data"
    }
   ],
   "source": [
    "plt.hist(images[5].flatten(), bins=50)\n",
    "plt.show()"
   ]
  },
  {
   "cell_type": "code",
   "execution_count": 6395,
   "id": "713484b7-cc92-4fbe-9891-6a635fca54a4",
   "metadata": {},
   "outputs": [
    {
     "name": "stderr",
     "output_type": "stream",
     "text": [
      "Clipping input data to the valid range for imshow with RGB data ([0..1] for floats or [0..255] for integers).\n"
     ]
    },
    {
     "data": {
      "text/plain": [
       "Text(0.5, 1.0, 'label:28')"
      ]
     },
     "execution_count": 6395,
     "metadata": {},
     "output_type": "execute_result"
    },
    {
     "data": {
      "image/png": "[encoded data removed]",
      "text/plain": [
       "<Figure size 640x480 with 1 Axes>"
      ]
     },
     "metadata": {},
     "output_type": "display_data"
    }
   ],
   "source": [
    "# batch 中经过预处理的图像\n",
    "# pre-processed images in batch\n",
    "idx = 1\n",
    "plt.imshow(images[idx].transpose((1,2,0))) # 转为(224, 224, 3)\n",
    "plt.title('label:'+str(labels[idx].item()))"
   ]
  },
  {
   "cell_type": "code",
   "execution_count": 6396,
   "id": "488f9f7c-aba0-42a0-9520-3ba2533f9747",
   "metadata": {},
   "outputs": [],
   "source": [
    "label = labels[idx].item()"
   ]
  },
  {
   "cell_type": "code",
   "execution_count": 6397,
   "id": "c6f1dd61-dd3a-4233-86ad-1d2f7cdd6f36",
   "metadata": {},
   "outputs": [
    {
     "data": {
      "text/plain": [
       "28"
      ]
     },
     "execution_count": 6397,
     "metadata": {},
     "output_type": "execute_result"
    }
   ],
   "source": [
    "label"
   ]
  },
  {
   "cell_type": "code",
   "execution_count": 6398,
   "id": "42fe5e73-cc5c-4ebb-b24e-0a2c785d2e65",
   "metadata": {},
   "outputs": [],
   "source": [
    "pred_classname = idx_to_labels[label]"
   ]
  },
  {
   "cell_type": "code",
   "execution_count": 6399,
   "id": "fb1c0a93-c625-4f74-a8da-8b675e3d3f73",
   "metadata": {},
   "outputs": [
    {
     "data": {
      "text/plain": [
       "'circle'"
      ]
     },
     "execution_count": 6399,
     "metadata": {},
     "output_type": "execute_result"
    }
   ],
   "source": [
    "pred_classname"
   ]
  },
  {
   "cell_type": "code",
   "execution_count": 6400,
   "id": "8ccc3188-33a6-476f-928e-7abcf8f8db96",
   "metadata": {},
   "outputs": [
    {
     "data": {
      "image/png": "[encoded data removed]",
      "text/plain": [
       "<Figure size 640x480 with 1 Axes>"
      ]
     },
     "metadata": {},
     "output_type": "display_data"
    }
   ],
   "source": [
    "# 原始图像/Original image\n",
    "idx = 1\n",
    "mean = np.array([0.485, 0.456, 0.406])\n",
    "std = np.array([0.229, 0.224, 0.225])\n",
    "plt.imshow(np.clip(images[idx].transpose((1,2,0)) * std + mean, 0, 1))\n",
    "plt.title('label:'+ pred_classname)\n",
    "plt.show()"
   ]
  },
  {
   "cell_type": "markdown",
   "id": "80b52d04-a791-4feb-8b57-af98b253ebba",
   "metadata": {},
   "source": [
    "## 导入训练需使用的工具包\n",
    "## Toolkit to be used for importing training"
   ]
  },
  {
   "cell_type": "code",
   "execution_count": 6401,
   "id": "684da643-5a88-4ba2-b49c-5dc98b35100e",
   "metadata": {},
   "outputs": [],
   "source": [
    "from torchvision import models\n",
    "import torch.optim as optim"
   ]
  },
  {
   "cell_type": "markdown",
   "id": "375b9c90-160f-451f-a46b-6e846424cc0a",
   "metadata": {},
   "source": [
    "## 选择迁移学习训练方式\n",
    "## Choosing a migration learning training method\n",
    "\n",
    "斯坦福CS231N【迁移学习】中文精讲：https://www.bilibili.com/video/BV1K7411W7So\n",
    "\n",
    "斯坦福CS231N【迁移学习】官方笔记：https://cs231n.github.io/transfer-learning/"
   ]
  },
  {
   "cell_type": "markdown",
   "id": "c9f90378-350d-48c2-98f7-e4fb3151aeb6",
   "metadata": {},
   "source": [
    "### 选择一：只微调训练模型最后一层（全连接分类层）\n",
    "### Option 1: Fine-tune only the last layer of the training model (the fully connected classification layer)"
   ]
  },
  {
   "cell_type": "code",
   "execution_count": 6402,
   "id": "23269f1a-ea51-4321-a1c3-20e572f4f671",
   "metadata": {},
   "outputs": [],
   "source": [
    "# model = models.resnet18(pretrained=True) # 载入预训练模型Load pre-trained model\n",
    "\n",
    "# 修改全连接层，使得全连接层的输出与当前数据集类别数对应/Modify the full connectivity layer\n",
    "# 新建的层默认 requires_grad=True\n",
    "model.fc = nn.Linear(model.fc.in_features, n_class)"
   ]
  },
  {
   "cell_type": "code",
   "execution_count": 6403,
   "id": "b6d39213-c7a0-456f-973d-b1fb070040d2",
   "metadata": {},
   "outputs": [
    {
     "data": {
      "text/plain": [
       "Linear(in_features=512, out_features=114, bias=True)"
      ]
     },
     "execution_count": 6403,
     "metadata": {},
     "output_type": "execute_result"
    }
   ],
   "source": [
    "model.fc"
   ]
  },
  {
   "cell_type": "code",
   "execution_count": 6404,
   "id": "c1c9ae51-045f-4c33-9c1e-0e5b263eb0f8",
   "metadata": {},
   "outputs": [],
   "source": [
    "# 只微调训练最后一层全连接层的参数，其它层冻结\n",
    "# Only the parameters of the last fully connected layer of the training are fine-tuned, and the other layers are frozen\n",
    "optimizer = optim.Adam(model.fc.parameters())"
   ]
  },
  {
   "cell_type": "markdown",
   "id": "cae51ee7-63fc-4895-ab0d-69815359032e",
   "metadata": {},
   "source": [
    "### 选择二：微调训练所有层\n",
    "### Option 2: Fine-tune training of all layers"
   ]
  },
  {
   "cell_type": "code",
   "execution_count": 6405,
   "id": "e20cdc2b-3cd2-472b-bf63-2e34a3d39a8f",
   "metadata": {},
   "outputs": [],
   "source": [
    "# model = models.resnet18(pretrained=True) # 载入预训练模型/Load pre-trained model\n",
    "\n",
    "# model.fc = nn.Linear(model.fc.in_features, n_class)\n",
    "\n",
    "# optimizer = optim.Adam(model.parameters())"
   ]
  },
  {
   "cell_type": "markdown",
   "id": "99a6da8b-ab76-4568-bf3a-09c4ec3434b7",
   "metadata": {},
   "source": [
    "### 选择三：随机初始化模型全部权重，从头训练所有层\n",
    "### Option 3: Randomly initialize all weights of the model and train all layers from scratch"
   ]
  },
  {
   "cell_type": "code",
   "execution_count": 6406,
   "id": "7c792cc4-ab64-403f-a7c9-80f3bee01c4a",
   "metadata": {},
   "outputs": [],
   "source": [
    "# model = models.resnet18(pretrained=False) # 只载入模型结构，不载入预训练权重参数\n",
    "\n",
    "# model.fc = nn.Linear(model.fc.in_features, n_class)\n",
    "\n",
    "# optimizer = optim.Adam(model.parameters())"
   ]
  },
  {
   "cell_type": "markdown",
   "id": "6e92213d-d6d9-435f-a4c0-4bcdbdf7c6b8",
   "metadata": {},
   "source": [
    "## \n",
    "## Training configuration"
   ]
  },
  {
   "cell_type": "code",
   "execution_count": 6407,
   "id": "a5146eb0-f25e-400c-bbd6-e567f8aab8c9",
   "metadata": {},
   "outputs": [],
   "source": [
    "model = model.to(device)\n",
    "\n",
    "# 交叉熵损失函数/Cross Entropy Loss Function\n",
    "criterion = nn.CrossEntropyLoss() \n",
    "\n",
    "# 训练轮次 Epoch/Training rounds Epoch\n",
    "EPOCHS = 20"
   ]
  },
  {
   "cell_type": "markdown",
   "id": "1d188eff-603c-475f-938a-ca10aa9427cc",
   "metadata": {},
   "source": [
    "## 模拟一个batch的训练\n",
    "## Simulate the training of a batch"
   ]
  },
  {
   "cell_type": "code",
   "execution_count": 6408,
   "id": "c376d88f-127d-47a8-8367-2a3e4670fc40",
   "metadata": {},
   "outputs": [],
   "source": [
    "# 获得一个 batch 的数据和标注/Get a batch of data and annotations\n",
    "images, labels = next(iter(train_loader))\n",
    "images = images.to(device)\n",
    "labels = labels.to(device)"
   ]
  },
  {
   "cell_type": "code",
   "execution_count": 6409,
   "id": "a4147f53-0de3-4757-b5d1-575f5ae3273d",
   "metadata": {},
   "outputs": [],
   "source": [
    "# 输入模型，执行前向预测/Input model to perform forward prediction\n",
    "outputs = model(images)"
   ]
  },
  {
   "cell_type": "code",
   "execution_count": 6410,
   "id": "edc18cf4-bdf0-43ff-9d82-4de67fe4ba5f",
   "metadata": {},
   "outputs": [
    {
     "data": {
      "text/plain": [
       "torch.Size([32, 114])"
      ]
     },
     "execution_count": 6410,
     "metadata": {},
     "output_type": "execute_result"
    }
   ],
   "source": [
    "# 获得当前 batch 所有图像的预测类别 logit 分数\n",
    "# Get the predicted category logit scores for all images in the current batch\n",
    "outputs.shape"
   ]
  },
  {
   "cell_type": "code",
   "execution_count": 6411,
   "id": "1566da53-8fd3-4f70-b33c-edc40f8ea8df",
   "metadata": {},
   "outputs": [],
   "source": [
    "# 由 logit，计算当前 batch 中，每个样本的平均交叉熵损失函数值\n",
    "# From logit, calculate the average cross-entropy loss function for each sample in the current batch.\n",
    "loss = criterion(outputs, labels)"
   ]
  },
  {
   "cell_type": "code",
   "execution_count": 6412,
   "id": "98e28997-4544-4cae-8e65-92995dd9e6ce",
   "metadata": {},
   "outputs": [],
   "source": [
    "# 反向传播“三部曲”/# Reverse communication \"trilogy\"\n",
    "optimizer.zero_grad() # 清除梯度/Clearing the gradient\n",
    "loss.backward() # 反向传播/backward propagation\n",
    "optimizer.step() # 优化更新/Optimization Updates"
   ]
  },
  {
   "cell_type": "code",
   "execution_count": 6413,
   "id": "3fabd3ba-d950-4ffa-a1af-9e4cb0dc8b6e",
   "metadata": {},
   "outputs": [],
   "source": [
    "# 获得当前 batch 所有图像的预测类别/Get the predicted categories for all images in the current batch\n",
    "_, preds = torch.max(outputs, 1)"
   ]
  },
  {
   "cell_type": "code",
   "execution_count": 6414,
   "id": "51ac9a4f-a1be-447a-9429-17b5ef2c922a",
   "metadata": {},
   "outputs": [
    {
     "data": {
      "text/plain": [
       "tensor([ 8, 45, 16, 20, 46,  8, 45, 79, 16, 45, 23, 79, 79, 16, 45, 79, 23,  8,\n",
       "        45,  8, 92, 23, 45, 45, 89, 79, 45,  8, 45, 66,  0, 79],\n",
       "       device='cuda:0')"
      ]
     },
     "execution_count": 6414,
     "metadata": {},
     "output_type": "execute_result"
    }
   ],
   "source": [
    "preds"
   ]
  },
  {
   "cell_type": "code",
   "execution_count": 6415,
   "id": "bf11de94-c0f6-47fb-9785-0aedb0fc9134",
   "metadata": {},
   "outputs": [
    {
     "data": {
      "text/plain": [
       "tensor([ 99,  19,  35,  89,  40,  69,  71,  71,  24,  80,  85, 100,  88, 111,\n",
       "         19,  27, 109,  30,  63,  64,  79,  88,   1,  94,  64,  69,  55, 113,\n",
       "         14,  70,   4, 109], device='cuda:0')"
      ]
     },
     "execution_count": 6415,
     "metadata": {},
     "output_type": "execute_result"
    }
   ],
   "source": [
    "labels"
   ]
  },
  {
   "cell_type": "markdown",
   "id": "733fec36-70de-4a8a-a985-57148fd36815",
   "metadata": {},
   "source": [
    "## 运行完整训练\n",
    "## Run the full training"
   ]
  },
  {
   "cell_type": "code",
   "execution_count": null,
   "id": "c630791f-3137-49cd-8e38-3a788f84ec54",
   "metadata": {
    "scrolled": true
   },
   "outputs": [
    {
     "name": "stderr",
     "output_type": "stream",
     "text": [
      "\r",
      "  0%|                                                                                                                | 0/20 [00:00<?, ?it/s]"
     ]
    }
   ],
   "source": [
    "%%time\n",
    "# 遍历每个 EPOCH/Iterate through each EPOCH\n",
    "for epoch in tqdm(range(EPOCHS)):\n",
    "\n",
    "    model.train()\n",
    "\n",
    "    for images, labels in train_loader:  # 获得一个 batch 的数据和标注/Get a batch of data and annotations\n",
    "        images = images.to(device)\n",
    "        labels = labels.to(device)\n",
    "\n",
    "        outputs = model(images)\n",
    "        loss = criterion(outputs, labels) # 计算当前 batch 中，每个样本的平均交叉熵损失函数值\n",
    "        \n",
    "        optimizer.zero_grad()\n",
    "        loss.backward()\n",
    "        optimizer.step()\n",
    "writePrint()\n",
    "print(dataset_dir)"
   ]
  },
  {
   "cell_type": "markdown",
   "id": "fbf71013-075b-4878-884a-c5c650772f82",
   "metadata": {},
   "source": [
    "## 在测试集上初步测试\n",
    "## Initial testing on a test set"
   ]
  },
  {
   "cell_type": "code",
   "execution_count": null,
   "id": "c18416eb-ee78-420a-b48a-95727c992c9d",
   "metadata": {
    "scrolled": false
   },
   "outputs": [],
   "source": [
    "%%time\n",
    "\n",
    "model.eval()\n",
    "with torch.no_grad():\n",
    "    correct = 0\n",
    "    total = 0\n",
    "    for images, labels in tqdm(test_loader):\n",
    "        images = images.to(device)\n",
    "        labels = labels.to(device)\n",
    "        outputs = model(images)\n",
    "        _, preds = torch.max(outputs, 1)\n",
    "        total += labels.size(0)\n",
    "        correct += (preds == labels).sum()\n",
    "\n",
    "    writePrint()\n",
    "    print('测试集上的准确率为 {:.3f} %'.format(100 * correct / total))"
   ]
  },
  {
   "cell_type": "markdown",
   "id": "773da35f-3c61-4fbc-b00a-de7f612e3046",
   "metadata": {},
   "source": [
    "## 保存模型\n",
    "## Save the model"
   ]
  },
  {
   "cell_type": "code",
   "execution_count": null,
   "id": "9201086a-a2ba-48bd-839d-f044b5419a5d",
   "metadata": {},
   "outputs": [],
   "source": [
    "torch.save(model, 'checkpoints/R_pytorch_1.pth')"
   ]
  },
  {
   "cell_type": "markdown",
   "id": "44e39fa3-29c0-489a-854e-b4df1c1bcf57",
   "metadata": {},
   "source": [
    "## 参考文档\n",
    "## Reference documentation\n",
    "\n",
    "https://pytorch.org/tutorials/beginner/transfer_learning_tutorial.html\n",
    "\n",
    "https://www.bilibili.com/video/BV1qe4y1D7zD\n",
    "\n",
    "https://www.bilibili.com/video/BV14J411X7Bb\n",
    "\n",
    "https://www.bilibili.com/video/BV1w4411u7ay"
   ]
  },
  {
   "cell_type": "code",
   "execution_count": null,
   "id": "139d2504-a78a-4145-8520-5206fb51b829",
   "metadata": {},
   "outputs": [],
   "source": []
  },
  {
   "cell_type": "code",
   "execution_count": null,
   "id": "f376316d",
   "metadata": {},
   "outputs": [],
   "source": []
  }
 ],
 "metadata": {
  "kernelspec": {
   "display_name": "Python 3",
   "language": "python",
   "name": "python3"
  },
  "language_info": {
   "codemirror_mode": {
    "name": "ipython",
    "version": 3
   },
   "file_extension": ".py",
   "mimetype": "text/x-python",
   "name": "python",
   "nbconvert_exporter": "python",
   "pygments_lexer": "ipython3",
   "version": "3.8.8"
  }
 },
 "nbformat": 4,
 "nbformat_minor": 5
}
